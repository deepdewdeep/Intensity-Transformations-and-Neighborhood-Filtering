{
 "cells": [
  {
   "cell_type": "markdown",
   "metadata": {},
   "source": [
    "1. Implement the intensity transformation depicted in Fig. 1a on the image shown in Fig. 1b."
   ]
  },
  {
   "cell_type": "code",
   "execution_count": null,
   "metadata": {},
   "outputs": [],
   "source": []
  },
  {
   "cell_type": "markdown",
   "metadata": {},
   "source": [
    "## 4."
   ]
  },
  {
   "cell_type": "code",
   "execution_count": 1,
   "metadata": {},
   "outputs": [
    {
     "name": "stderr",
     "output_type": "stream",
     "text": [
      "<>:7: SyntaxWarning: 'int' object is not callable; perhaps you missed a comma?\n",
      "<>:7: SyntaxWarning: 'int' object is not callable; perhaps you missed a comma?\n"
     ]
    }
   ],
   "source": [
    "import numpy as np\n",
    "import cv2 as cv\n",
    "import matplotlib.pyplot as plt\n",
    "\n",
    "#define intensity transformation function\n",
    "def f(x,a,sigma=70):\n",
    "    f1 = x+a*128*np.exp(-(x-128)*2(1/(sigma**2*2)))\n",
    "    return min(f1,255)\n",
    "\n",
    "\n",
    "image = cv2.imread(r\"D:\\work\\UoM\\sem 5\\Machine Vision\\Assi 1\\spider.png\",cv2.IMREAD_COLOR)\n",
    "\n",
    "# Convert the image to HSV color space\n",
    "hsv_image = cv2.cvtColor(image, cv2.COLOR_BGR2HSV)\n",
    "\n",
    "# Split the HSV image into separate channels\n",
    "h, s, v = cv2.split(hsv_image)\n",
    "\n",
    "hist = cv2.calcHist([s],[0],None,[256],[0,256])\n",
    "\n",
    "\n",
    "# transformation\n",
    "a=0.8\n",
    "transformation = np.array([f(x,a) for x in range(256)]).astype(np.uint8)\n",
    "s_new = cv.LUT(s,transformation)\n",
    "\n",
    "hist = cv2.calcHist([s_new],[0],None,[256],[0,256])\n",
    "hsv_image_new = cv2.merge([h,s_new,v])\n",
    "\n",
    "\n",
    "fig,ax = plt.subplots(2,4,figsize=(20,5))\n",
    "#original image\n",
    "ax[0,0].imshow(cv.cvtColor(image, cv.COLOR_BGR2RGB))\n",
    "ax[0,0].set_title('Original Image')\n",
    "ax[0,0].axis('off')\n",
    "#HSV planes\n",
    "ax[0,1].imshow(h,cmap='gray')\n",
    "ax[0,1].set_title('Hue')\n",
    "ax[0,1].axis('off')\n",
    "\n",
    "ax[0,2].imshow(s,cmap = 'gray')\n",
    "ax[0,2].set_title('Saturation')\n",
    "ax[0,2].axis('off')\n",
    "\n",
    "ax[0,3].imshow(v,cmap = 'gray')\n",
    "ax[0,3].set_title('Value')\n",
    "ax[0,3].axis('off')\n",
    "\n",
    "#transformed image\n",
    "ax[1,0].imshow(cv.cvtColor(hsv_image_new, cv2.COLOR_HSV2RGB))\n",
    "ax[1,0].set_title('Transformed Image')\n",
    "ax[1,0].axis('off')\n",
    "\n",
    "#transformed Saturation plane\n",
    "ax[1,1].imshow(s_new,cmap = 'gray')\n",
    "ax[1,1].set_title('Transformed Saturation Plane')\n",
    "ax[1,1].axis('off')\n",
    "\n",
    "#histogram of original saturation plane\n",
    "hist = cv2.calcHist([s],[0],None,[256],[0,256])\n",
    "ax[1,2].plot(hist)\n",
    "ax[1,2].set_title('Initial Histogram of Saturation Plane',fontsize=8)\n",
    "ax[1,2].set_xlabel('Intensity')\n",
    "ax[1,2].set_ylabel('Frequency')\n",
    "\n",
    "#histogram of transformed saturation plane\n",
    "hist = cv2.calcHist([s_new],[0],None,[256],[0,256])\n",
    "ax[1,3].plot(hist)\n",
    "ax[1,3].set_title('Transformed Histogram of Saturation Plane',fontsize=8)\n",
    "ax[1,3].set_xlabel('Intensity')\n",
    "ax[1,3].set_ylabel('Frequency')\n",
    "\n",
    "plt.show()"
   ]
  }
 ],
 "metadata": {
  "kernelspec": {
   "display_name": "cv",
   "language": "python",
   "name": "python3"
  },
  "language_info": {
   "codemirror_mode": {
    "name": "ipython",
    "version": 3
   },
   "file_extension": ".py",
   "mimetype": "text/x-python",
   "name": "python",
   "nbconvert_exporter": "python",
   "pygments_lexer": "ipython3",
   "version": "3.11.4"
  },
  "orig_nbformat": 4
 },
 "nbformat": 4,
 "nbformat_minor": 2
}
