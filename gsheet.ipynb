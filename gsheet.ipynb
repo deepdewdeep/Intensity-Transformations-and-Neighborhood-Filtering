{
 "cells": [
  {
   "cell_type": "code",
   "execution_count": 4,
   "metadata": {},
   "outputs": [
    {
     "ename": "ModuleNotFoundError",
     "evalue": "No module named 'gspread_dataframe'",
     "output_type": "error",
     "traceback": [
      "\u001b[1;31m---------------------------------------------------------------------------\u001b[0m",
      "\u001b[1;31mModuleNotFoundError\u001b[0m                       Traceback (most recent call last)",
      "Cell \u001b[1;32mIn[4], line 3\u001b[0m\n\u001b[0;32m      1\u001b[0m \u001b[39mimport\u001b[39;00m \u001b[39mpandas\u001b[39;00m \u001b[39mas\u001b[39;00m \u001b[39mpd\u001b[39;00m\n\u001b[0;32m      2\u001b[0m \u001b[39mimport\u001b[39;00m \u001b[39mgspread\u001b[39;00m \n\u001b[1;32m----> 3\u001b[0m \u001b[39mfrom\u001b[39;00m \u001b[39mgspread_dataframe\u001b[39;00m \u001b[39mimport\u001b[39;00m set_with_dataframe\n",
      "\u001b[1;31mModuleNotFoundError\u001b[0m: No module named 'gspread_dataframe'"
     ]
    }
   ],
   "source": [
    "import pandas as pd\n",
    "import gspread \n",
    "from gspread_dataframe import set_with_dataframe"
   ]
  },
  {
   "cell_type": "code",
   "execution_count": 2,
   "metadata": {},
   "outputs": [
    {
     "name": "stdout",
     "output_type": "stream",
     "text": [
      "Collecting gspread\n",
      "  Obtaining dependency information for gspread from https://files.pythonhosted.org/packages/cd/01/5478cb778c03a595a7276753ce744c3aa0dfd46ddecd26a0fd52f05c5f28/gspread-5.10.0-py3-none-any.whl.metadata\n",
      "  Using cached gspread-5.10.0-py3-none-any.whl.metadata (6.8 kB)\n",
      "Collecting google-auth>=1.12.0 (from gspread)\n",
      "  Obtaining dependency information for google-auth>=1.12.0 from https://files.pythonhosted.org/packages/9c/8d/bff87fc722553a5691d8514da5523c23547f3894189ba03b57592e37bdc2/google_auth-2.22.0-py2.py3-none-any.whl.metadata\n",
      "  Using cached google_auth-2.22.0-py2.py3-none-any.whl.metadata (4.2 kB)\n",
      "Collecting google-auth-oauthlib>=0.4.1 (from gspread)\n",
      "  Using cached google_auth_oauthlib-1.0.0-py2.py3-none-any.whl (18 kB)\n",
      "Collecting cachetools<6.0,>=2.0.0 (from google-auth>=1.12.0->gspread)\n",
      "  Obtaining dependency information for cachetools<6.0,>=2.0.0 from https://files.pythonhosted.org/packages/a9/c9/c8a7710f2cedcb1db9224fdd4d8307c9e48cbddc46c18b515fefc0f1abbe/cachetools-5.3.1-py3-none-any.whl.metadata\n",
      "  Using cached cachetools-5.3.1-py3-none-any.whl.metadata (5.2 kB)\n",
      "Collecting pyasn1-modules>=0.2.1 (from google-auth>=1.12.0->gspread)\n",
      "  Using cached pyasn1_modules-0.3.0-py2.py3-none-any.whl (181 kB)\n",
      "Collecting rsa<5,>=3.1.4 (from google-auth>=1.12.0->gspread)\n",
      "  Using cached rsa-4.9-py3-none-any.whl (34 kB)\n",
      "Requirement already satisfied: six>=1.9.0 in c:\\python311\\cv\\lib\\site-packages (from google-auth>=1.12.0->gspread) (1.16.0)\n",
      "Collecting urllib3<2.0 (from google-auth>=1.12.0->gspread)\n",
      "  Obtaining dependency information for urllib3<2.0 from https://files.pythonhosted.org/packages/c5/05/c214b32d21c0b465506f95c4f28ccbcba15022e000b043b72b3df7728471/urllib3-1.26.16-py2.py3-none-any.whl.metadata\n",
      "  Using cached urllib3-1.26.16-py2.py3-none-any.whl.metadata (48 kB)\n",
      "Collecting requests-oauthlib>=0.7.0 (from google-auth-oauthlib>=0.4.1->gspread)\n",
      "  Using cached requests_oauthlib-1.3.1-py2.py3-none-any.whl (23 kB)\n",
      "Collecting pyasn1<0.6.0,>=0.4.6 (from pyasn1-modules>=0.2.1->google-auth>=1.12.0->gspread)\n",
      "  Using cached pyasn1-0.5.0-py2.py3-none-any.whl (83 kB)\n",
      "Collecting oauthlib>=3.0.0 (from requests-oauthlib>=0.7.0->google-auth-oauthlib>=0.4.1->gspread)\n",
      "  Using cached oauthlib-3.2.2-py3-none-any.whl (151 kB)\n",
      "Requirement already satisfied: requests>=2.0.0 in c:\\python311\\cv\\lib\\site-packages (from requests-oauthlib>=0.7.0->google-auth-oauthlib>=0.4.1->gspread) (2.31.0)\n",
      "Requirement already satisfied: charset-normalizer<4,>=2 in c:\\python311\\cv\\lib\\site-packages (from requests>=2.0.0->requests-oauthlib>=0.7.0->google-auth-oauthlib>=0.4.1->gspread) (3.2.0)\n",
      "Requirement already satisfied: idna<4,>=2.5 in c:\\python311\\cv\\lib\\site-packages (from requests>=2.0.0->requests-oauthlib>=0.7.0->google-auth-oauthlib>=0.4.1->gspread) (3.4)\n",
      "Requirement already satisfied: certifi>=2017.4.17 in c:\\python311\\cv\\lib\\site-packages (from requests>=2.0.0->requests-oauthlib>=0.7.0->google-auth-oauthlib>=0.4.1->gspread) (2023.7.22)\n",
      "Using cached gspread-5.10.0-py3-none-any.whl (44 kB)\n",
      "Using cached google_auth-2.22.0-py2.py3-none-any.whl (181 kB)\n",
      "Using cached cachetools-5.3.1-py3-none-any.whl (9.3 kB)\n",
      "Using cached urllib3-1.26.16-py2.py3-none-any.whl (143 kB)\n",
      "Installing collected packages: urllib3, pyasn1, oauthlib, cachetools, rsa, pyasn1-modules, requests-oauthlib, google-auth, google-auth-oauthlib, gspread\n",
      "  Attempting uninstall: urllib3\n",
      "    Found existing installation: urllib3 2.0.4\n",
      "    Uninstalling urllib3-2.0.4:\n",
      "      Successfully uninstalled urllib3-2.0.4\n",
      "Successfully installed cachetools-5.3.1 google-auth-2.22.0 google-auth-oauthlib-1.0.0 gspread-5.10.0 oauthlib-3.2.2 pyasn1-0.5.0 pyasn1-modules-0.3.0 requests-oauthlib-1.3.1 rsa-4.9 urllib3-1.26.16\n",
      "Note: you may need to restart the kernel to use updated packages.\n"
     ]
    }
   ],
   "source": [
    "pip install gspread"
   ]
  },
  {
   "cell_type": "code",
   "execution_count": 7,
   "metadata": {},
   "outputs": [],
   "source": [
    "import pandas as pd\n",
    "import gspread \n",
    "from gspread_dataframe import set_with_dataframe"
   ]
  },
  {
   "cell_type": "code",
   "execution_count": 6,
   "metadata": {},
   "outputs": [
    {
     "name": "stdout",
     "output_type": "stream",
     "text": [
      "Collecting gspread_dataframe\n",
      "  Obtaining dependency information for gspread_dataframe from https://files.pythonhosted.org/packages/4f/cd/b5ad4a14a6be7a188197cf103e6f3282c437b1978b55a9e7de041ea2d125/gspread_dataframe-3.3.1-py2.py3-none-any.whl.metadata\n",
      "  Downloading gspread_dataframe-3.3.1-py2.py3-none-any.whl.metadata (4.1 kB)\n",
      "Requirement already satisfied: gspread>=3.0.0 in c:\\python311\\cv\\lib\\site-packages (from gspread_dataframe) (5.10.0)\n",
      "Requirement already satisfied: pandas>=0.24.0 in c:\\python311\\cv\\lib\\site-packages (from gspread_dataframe) (2.0.3)\n",
      "Requirement already satisfied: six>=1.12.0 in c:\\python311\\cv\\lib\\site-packages (from gspread_dataframe) (1.16.0)\n",
      "Requirement already satisfied: google-auth>=1.12.0 in c:\\python311\\cv\\lib\\site-packages (from gspread>=3.0.0->gspread_dataframe) (2.22.0)\n",
      "Requirement already satisfied: google-auth-oauthlib>=0.4.1 in c:\\python311\\cv\\lib\\site-packages (from gspread>=3.0.0->gspread_dataframe) (1.0.0)\n",
      "Requirement already satisfied: python-dateutil>=2.8.2 in c:\\python311\\cv\\lib\\site-packages (from pandas>=0.24.0->gspread_dataframe) (2.8.2)\n",
      "Requirement already satisfied: pytz>=2020.1 in c:\\python311\\cv\\lib\\site-packages (from pandas>=0.24.0->gspread_dataframe) (2023.3)\n",
      "Requirement already satisfied: tzdata>=2022.1 in c:\\python311\\cv\\lib\\site-packages (from pandas>=0.24.0->gspread_dataframe) (2023.3)\n",
      "Requirement already satisfied: numpy>=1.21.0 in c:\\python311\\cv\\lib\\site-packages (from pandas>=0.24.0->gspread_dataframe) (1.25.2)\n",
      "Requirement already satisfied: cachetools<6.0,>=2.0.0 in c:\\python311\\cv\\lib\\site-packages (from google-auth>=1.12.0->gspread>=3.0.0->gspread_dataframe) (5.3.1)\n",
      "Requirement already satisfied: pyasn1-modules>=0.2.1 in c:\\python311\\cv\\lib\\site-packages (from google-auth>=1.12.0->gspread>=3.0.0->gspread_dataframe) (0.3.0)\n",
      "Requirement already satisfied: rsa<5,>=3.1.4 in c:\\python311\\cv\\lib\\site-packages (from google-auth>=1.12.0->gspread>=3.0.0->gspread_dataframe) (4.9)\n",
      "Requirement already satisfied: urllib3<2.0 in c:\\python311\\cv\\lib\\site-packages (from google-auth>=1.12.0->gspread>=3.0.0->gspread_dataframe) (1.26.16)\n",
      "Requirement already satisfied: requests-oauthlib>=0.7.0 in c:\\python311\\cv\\lib\\site-packages (from google-auth-oauthlib>=0.4.1->gspread>=3.0.0->gspread_dataframe) (1.3.1)\n",
      "Requirement already satisfied: pyasn1<0.6.0,>=0.4.6 in c:\\python311\\cv\\lib\\site-packages (from pyasn1-modules>=0.2.1->google-auth>=1.12.0->gspread>=3.0.0->gspread_dataframe) (0.5.0)\n",
      "Requirement already satisfied: oauthlib>=3.0.0 in c:\\python311\\cv\\lib\\site-packages (from requests-oauthlib>=0.7.0->google-auth-oauthlib>=0.4.1->gspread>=3.0.0->gspread_dataframe) (3.2.2)\n",
      "Requirement already satisfied: requests>=2.0.0 in c:\\python311\\cv\\lib\\site-packages (from requests-oauthlib>=0.7.0->google-auth-oauthlib>=0.4.1->gspread>=3.0.0->gspread_dataframe) (2.31.0)\n",
      "Requirement already satisfied: charset-normalizer<4,>=2 in c:\\python311\\cv\\lib\\site-packages (from requests>=2.0.0->requests-oauthlib>=0.7.0->google-auth-oauthlib>=0.4.1->gspread>=3.0.0->gspread_dataframe) (3.2.0)\n",
      "Requirement already satisfied: idna<4,>=2.5 in c:\\python311\\cv\\lib\\site-packages (from requests>=2.0.0->requests-oauthlib>=0.7.0->google-auth-oauthlib>=0.4.1->gspread>=3.0.0->gspread_dataframe) (3.4)\n",
      "Requirement already satisfied: certifi>=2017.4.17 in c:\\python311\\cv\\lib\\site-packages (from requests>=2.0.0->requests-oauthlib>=0.7.0->google-auth-oauthlib>=0.4.1->gspread>=3.0.0->gspread_dataframe) (2023.7.22)\n",
      "Downloading gspread_dataframe-3.3.1-py2.py3-none-any.whl (8.0 kB)\n",
      "Installing collected packages: gspread_dataframe\n",
      "Successfully installed gspread_dataframe-3.3.1\n",
      "Note: you may need to restart the kernel to use updated packages.\n"
     ]
    }
   ],
   "source": [
    "pip install gspread_dataframe"
   ]
  },
  {
   "cell_type": "code",
   "execution_count": 10,
   "metadata": {},
   "outputs": [
    {
     "name": "stdout",
     "output_type": "stream",
     "text": [
      "Entry added successfully.\n"
     ]
    }
   ],
   "source": [
    "import csv\n",
    "\n",
    "def add_entry_to_csv(file_path, entry):\n",
    "    try:\n",
    "        with open(file_path, 'a', newline='') as csv_file:\n",
    "            csv_writer = csv.writer(csv_file)\n",
    "            csv_writer.writerow(entry)\n",
    "        print(\"Entry added successfully.\")\n",
    "    except Exception as e:\n",
    "        print(\"Error:\", e)\n",
    "\n",
    "# Specify the CSV file path and the entry to be added\n",
    "csv_file_path = r\"D:\\work\\Cup\\CSV\\evallog.csv\"\n",
    "new_entry = ['Value1', 'Value2']  # Replace these with your actual values\n",
    "\n",
    "add_entry_to_csv(csv_file_path, new_entry)\n"
   ]
  },
  {
   "cell_type": "code",
   "execution_count": null,
   "metadata": {},
   "outputs": [],
   "source": []
  }
 ],
 "metadata": {
  "kernelspec": {
   "display_name": "cv",
   "language": "python",
   "name": "python3"
  },
  "language_info": {
   "codemirror_mode": {
    "name": "ipython",
    "version": 3
   },
   "file_extension": ".py",
   "mimetype": "text/x-python",
   "name": "python",
   "nbconvert_exporter": "python",
   "pygments_lexer": "ipython3",
   "version": "3.11.4"
  },
  "orig_nbformat": 4
 },
 "nbformat": 4,
 "nbformat_minor": 2
}
